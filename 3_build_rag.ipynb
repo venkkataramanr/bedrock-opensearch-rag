{
 "cells": [
  {
   "cell_type": "markdown",
   "id": "37b4bd04-9ee9-4ff1-8290-6d7272d3e4e7",
   "metadata": {},
   "source": [
    "### Import modules"
   ]
  },
  {
   "cell_type": "code",
   "execution_count": 1,
   "id": "8d74acca-63f1-44b9-9416-23eb31470c6c",
   "metadata": {},
   "outputs": [],
   "source": [
    "from opensearchpy import OpenSearch, RequestsHttpConnection, AWSV4SignerAuth, helpers\n",
    "import boto3\n",
    "import json"
   ]
  },
  {
   "cell_type": "markdown",
   "id": "b60c4f02-d5d4-483a-a88d-b7c4f846185b",
   "metadata": {},
   "source": [
    "### Initialize and configure OpenSearch client"
   ]
  },
  {
   "cell_type": "code",
   "execution_count": 2,
   "id": "ff85f63f-ed7e-48b4-9eb9-c3a6717c23a2",
   "metadata": {},
   "outputs": [],
   "source": [
    "with open('host.txt', 'r') as fp:\n",
    "    host = fp.read()\n",
    "region = \"us-east-1\"\n",
    "service = \"aoss\"\n",
    "session = boto3.Session(profile_name=\"rapid-innovation-dev\")\n",
    "credentials = session.get_credentials()\n",
    "auth = AWSV4SignerAuth(credentials, region, service)"
   ]
  },
  {
   "cell_type": "code",
   "execution_count": 3,
   "id": "80559ac3-f4ba-423a-94ab-44432816829a",
   "metadata": {},
   "outputs": [],
   "source": [
    "client = OpenSearch(\n",
    "    hosts = [{\"host\": host, \"port\": 443}],\n",
    "    http_auth = auth,\n",
    "    use_ssl = True,\n",
    "    verify_certs = True,\n",
    "    connection_class = RequestsHttpConnection,\n",
    "    pool_maxsize = 20\n",
    ")"
   ]
  },
  {
   "cell_type": "markdown",
   "id": "d80d8f05-3ce6-4d9f-9610-4019107af8f5",
   "metadata": {},
   "source": [
    "### Initialize and configure Boto Client for Bedrock"
   ]
  },
  {
   "cell_type": "code",
   "execution_count": 4,
   "id": "6ba9bcf1-9045-4b60-9793-3e81b9bfbbee",
   "metadata": {},
   "outputs": [],
   "source": [
    "bedrock = session.client(\n",
    " service_name='bedrock-runtime',\n",
    " region_name='us-east-1',\n",
    ")"
   ]
  },
  {
   "cell_type": "markdown",
   "id": "2e0f471b-9b00-4a44-bd4d-31890de256d0",
   "metadata": {},
   "source": [
    "### Define function for generating embeddings"
   ]
  },
  {
   "cell_type": "code",
   "execution_count": 5,
   "id": "4c9ac7b7-0b34-49b0-8f7a-3db73c144ea7",
   "metadata": {},
   "outputs": [],
   "source": [
    "def text_embedding(text):\n",
    "    body=json.dumps({\"inputText\": text})\n",
    "    response = bedrock.invoke_model(body=body, modelId='amazon.titan-embed-text-v1', accept='application/json', contentType='application/json')\n",
    "    response_body = json.loads(response.get('body').read())\n",
    "    embedding = response_body.get('embedding')\n",
    "    return embedding"
   ]
  },
  {
   "cell_type": "markdown",
   "id": "e5f06071-da68-492a-86b1-f0cd0d69dfe4",
   "metadata": {},
   "source": [
    "### Create the prompt"
   ]
  },
  {
   "cell_type": "code",
   "execution_count": 6,
   "id": "ed8973be-e145-4898-a938-9245737a87dc",
   "metadata": {},
   "outputs": [],
   "source": [
    "prompt='Who won the Best Actor award in a supporting role?'"
   ]
  },
  {
   "cell_type": "markdown",
   "id": "a735f7cc-f3f4-42c4-90e8-555e634b0925",
   "metadata": {},
   "source": [
    "### Build context"
   ]
  },
  {
   "cell_type": "code",
   "execution_count": 7,
   "id": "530c2729-7b37-431d-b84e-e5a78c7a2687",
   "metadata": {},
   "outputs": [],
   "source": [
    "def search_index(vector):\n",
    "    document = {\n",
    "        \"size\": 15,\n",
    "        \"_source\": {\"excludes\": [\"nominee_vector\"]},\n",
    "        \"query\": {\n",
    "            \"knn\": {\n",
    "                 \"nominee_vector\": {\n",
    "                     \"vector\": vector,\n",
    "                     \"k\":15\n",
    "                 }\n",
    "            }\n",
    "        }\n",
    "    }\n",
    "    response = client.search(\n",
    "    body = document,\n",
    "    index = \"oscars-index\"\n",
    "    )\n",
    "    return response"
   ]
  },
  {
   "cell_type": "code",
   "execution_count": 8,
   "id": "6cc7a5bb-4847-46d0-bf5b-964e357e3bb8",
   "metadata": {},
   "outputs": [],
   "source": [
    "vector=text_embedding(prompt)"
   ]
  },
  {
   "cell_type": "code",
   "execution_count": 9,
   "id": "dae85ee2-64fd-456e-a496-4e980ae8ba1b",
   "metadata": {},
   "outputs": [],
   "source": [
    "response=search_index(vector)\n",
    "data=response['hits']['hits']"
   ]
  },
  {
   "cell_type": "code",
   "execution_count": 10,
   "id": "181bded2-131e-4ce3-86ca-39c6634ef53c",
   "metadata": {},
   "outputs": [
    {
     "data": {
      "text/plain": [
       "[{'_index': 'oscars-index',\n",
       "  '_id': '1%3A0%3AkOGmJZABlACFB3AV_gFM',\n",
       "  '_score': 0.7535921,\n",
       "  '_source': {'nominee_text': 'Paul Mescal got nominated under the category, actor in a leading role, for the film Aftersun but did not win'}},\n",
       " {'_index': 'oscars-index',\n",
       "  '_id': '1%3A0%3AocOnJZABw5U0TIJoBKi5',\n",
       "  '_score': 0.7324267,\n",
       "  '_source': {'nominee_text': 'Brian Tyree Henry got nominated under the category, actor in a supporting role, for the film Causeway but did not win'}},\n",
       " {'_index': 'oscars-index',\n",
       "  '_id': '1%3A0%3AoMOnJZABw5U0TIJoAKhR',\n",
       "  '_score': 0.7311648,\n",
       "  '_source': {'nominee_text': 'Bill Nighy got nominated under the category, actor in a leading role, for the film Living but did not win'}},\n",
       " {'_index': 'oscars-index',\n",
       "  '_id': '1%3A0%3Ak-GnJZABlACFB3AVCwEe',\n",
       "  '_score': 0.72693133,\n",
       "  '_source': {'nominee_text': 'Ke Huy Quan got nominated under the category, actor in a supporting role, for the film Everything Everywhere All at Once to win the award'}},\n",
       " {'_index': 'oscars-index',\n",
       "  '_id': '1%3A0%3Aj-GmJZABlACFB3AV-QGh',\n",
       "  '_score': 0.72441846,\n",
       "  '_source': {'nominee_text': 'Colin Farrell got nominated under the category, actor in a leading role, for the film The Banshees of Inisherin but did not win'}},\n",
       " {'_index': 'oscars-index',\n",
       "  '_id': '1%3A0%3An8OmJZABw5U0TIJo_Kha',\n",
       "  '_score': 0.71822596,\n",
       "  '_source': {'nominee_text': 'Brendan Fraser got nominated under the category, actor in a leading role, for the film The Whale to win the award'}},\n",
       " {'_index': 'oscars-index',\n",
       "  '_id': '1%3A0%3AkeGnJZABlACFB3AVAgGg',\n",
       "  '_score': 0.7145995,\n",
       "  '_source': {'nominee_text': 'Brendan Gleeson got nominated under the category, actor in a supporting role, for the film The Banshees of Inisherin but did not win'}},\n",
       " {'_index': 'oscars-index',\n",
       "  '_id': '1%3A0%3AosOnJZABw5U0TIJoCagF',\n",
       "  '_score': 0.70857453,\n",
       "  '_source': {'nominee_text': 'Barry Keoghan got nominated under the category, actor in a supporting role, for the film The Banshees of Inisherin but did not win'}},\n",
       " {'_index': 'oscars-index',\n",
       "  '_id': '1%3A0%3AkuGnJZABlACFB3AVBwEl',\n",
       "  '_score': 0.6979274,\n",
       "  '_source': {'nominee_text': 'Judd Hirsch got nominated under the category, actor in a supporting role, for the film The Fabelmans but did not win'}},\n",
       " {'_index': 'oscars-index',\n",
       "  '_id': '1%3A0%3AnsOmJZABw5U0TIJo96gt',\n",
       "  '_score': 0.696262,\n",
       "  '_source': {'nominee_text': 'Austin Butler got nominated under the category, actor in a leading role, for the film Elvis but did not win'}},\n",
       " {'_index': 'oscars-index',\n",
       "  '_id': '1%3A0%3AwOGnJZABlACFB3AVxgFN',\n",
       "  '_score': 0.6825666,\n",
       "  '_source': {'nominee_text': 'Cyrus Neshvad got nominated under the category, short film (live action), for the film The Red Suitcase but did not win'}},\n",
       " {'_index': 'oscars-index',\n",
       "  '_id': '1%3A0%3Aq8OnJZABw5U0TIJoLqi3',\n",
       "  '_score': 0.67965925,\n",
       "  '_source': {'nominee_text': 'Darius Khondji got nominated under the category, cinematography, for the film Bardo, False Chronicle of a Handful of Truths but did not win'}},\n",
       " {'_index': 'oscars-index',\n",
       "  '_id': '1%3A0%3Ap8OnJZABw5U0TIJoHaiC',\n",
       "  '_score': 0.6786101,\n",
       "  '_source': {'nominee_text': 'Jamie Lee Curtis got nominated under the category, actress in a supporting role, for the film Everything Everywhere All at Once to win the award'}},\n",
       " {'_index': 'oscars-index',\n",
       "  '_id': '1%3A0%3AssOnJZABw5U0TIJoS6jE',\n",
       "  '_score': 0.67095995,\n",
       "  '_source': {'nominee_text': 'Shaunak Sen, Aman Mann and Teddy Leifer got nominated under the category, documentary feature film, for the film All That Breathes but did not win'}},\n",
       " {'_index': 'oscars-index',\n",
       "  '_id': '1%3A0%3ApcOnJZABw5U0TIJoFaiI',\n",
       "  '_score': 0.66991436,\n",
       "  '_source': {'nominee_text': 'Michelle Yeoh got nominated under the category, actress in a leading role, for the film Everything Everywhere All at Once to win the award'}}]"
      ]
     },
     "execution_count": 10,
     "metadata": {},
     "output_type": "execute_result"
    }
   ],
   "source": [
    "data"
   ]
  },
  {
   "cell_type": "code",
   "execution_count": 11,
   "id": "93309c90-4ce0-4c0d-88ae-ea5aea3f0860",
   "metadata": {},
   "outputs": [
    {
     "name": "stdout",
     "output_type": "stream",
     "text": [
      "Paul Mescal got nominated under the category, actor in a leading role, for the film Aftersun but did not win\n",
      "Brian Tyree Henry got nominated under the category, actor in a supporting role, for the film Causeway but did not win\n",
      "Bill Nighy got nominated under the category, actor in a leading role, for the film Living but did not win\n",
      "Ke Huy Quan got nominated under the category, actor in a supporting role, for the film Everything Everywhere All at Once to win the award\n",
      "Colin Farrell got nominated under the category, actor in a leading role, for the film The Banshees of Inisherin but did not win\n",
      "Brendan Fraser got nominated under the category, actor in a leading role, for the film The Whale to win the award\n",
      "Brendan Gleeson got nominated under the category, actor in a supporting role, for the film The Banshees of Inisherin but did not win\n",
      "Barry Keoghan got nominated under the category, actor in a supporting role, for the film The Banshees of Inisherin but did not win\n",
      "Judd Hirsch got nominated under the category, actor in a supporting role, for the film The Fabelmans but did not win\n",
      "Austin Butler got nominated under the category, actor in a leading role, for the film Elvis but did not win\n",
      "Cyrus Neshvad got nominated under the category, short film (live action), for the film The Red Suitcase but did not win\n",
      "Darius Khondji got nominated under the category, cinematography, for the film Bardo, False Chronicle of a Handful of Truths but did not win\n",
      "Jamie Lee Curtis got nominated under the category, actress in a supporting role, for the film Everything Everywhere All at Once to win the award\n",
      "Shaunak Sen, Aman Mann and Teddy Leifer got nominated under the category, documentary feature film, for the film All That Breathes but did not win\n",
      "Michelle Yeoh got nominated under the category, actress in a leading role, for the film Everything Everywhere All at Once to win the award\n",
      "\n"
     ]
    }
   ],
   "source": [
    "context = ''\n",
    "for item in data:\n",
    "    context += item['_source']['nominee_text'] + '\\n'\n",
    "print(context)"
   ]
  },
  {
   "cell_type": "code",
   "execution_count": 12,
   "id": "bf3557a7-6e8b-45ed-8c97-49318e7c44d1",
   "metadata": {},
   "outputs": [],
   "source": [
    "augmented_prompt=f'Context - {context}\\nBased on the above context, answer this question - {prompt}'"
   ]
  },
  {
   "cell_type": "code",
   "execution_count": 13,
   "id": "a8c6f95b-d583-45d4-9313-7a2bb862162c",
   "metadata": {},
   "outputs": [
    {
     "data": {
      "text/plain": [
       "'Context - Paul Mescal got nominated under the category, actor in a leading role, for the film Aftersun but did not win\\nBrian Tyree Henry got nominated under the category, actor in a supporting role, for the film Causeway but did not win\\nBill Nighy got nominated under the category, actor in a leading role, for the film Living but did not win\\nKe Huy Quan got nominated under the category, actor in a supporting role, for the film Everything Everywhere All at Once to win the award\\nColin Farrell got nominated under the category, actor in a leading role, for the film The Banshees of Inisherin but did not win\\nBrendan Fraser got nominated under the category, actor in a leading role, for the film The Whale to win the award\\nBrendan Gleeson got nominated under the category, actor in a supporting role, for the film The Banshees of Inisherin but did not win\\nBarry Keoghan got nominated under the category, actor in a supporting role, for the film The Banshees of Inisherin but did not win\\nJudd Hirsch got nominated under the category, actor in a supporting role, for the film The Fabelmans but did not win\\nAustin Butler got nominated under the category, actor in a leading role, for the film Elvis but did not win\\nCyrus Neshvad got nominated under the category, short film (live action), for the film The Red Suitcase but did not win\\nDarius Khondji got nominated under the category, cinematography, for the film Bardo, False Chronicle of a Handful of Truths but did not win\\nJamie Lee Curtis got nominated under the category, actress in a supporting role, for the film Everything Everywhere All at Once to win the award\\nShaunak Sen, Aman Mann and Teddy Leifer got nominated under the category, documentary feature film, for the film All That Breathes but did not win\\nMichelle Yeoh got nominated under the category, actress in a leading role, for the film Everything Everywhere All at Once to win the award\\n\\nBased on the above context, answer this question - Who won the Best Actor award in a supporting role?'"
      ]
     },
     "execution_count": 13,
     "metadata": {},
     "output_type": "execute_result"
    }
   ],
   "source": [
    "augmented_prompt"
   ]
  },
  {
   "cell_type": "markdown",
   "id": "2be6ce1a-572e-4883-a85f-dad571a40571",
   "metadata": {},
   "source": [
    "### Invoke Titan LLM Endpoint"
   ]
  },
  {
   "cell_type": "code",
   "execution_count": 14,
   "id": "0d624037-f6a9-46db-8e35-f304de838b78",
   "metadata": {},
   "outputs": [],
   "source": [
    "config={\n",
    "      \"maxTokenCount\": 1000,\n",
    "      \"stopSequences\": [],\n",
    "      \"temperature\":0.1,\n",
    "      \"topP\":1\n",
    "}\n",
    "\n",
    "body = json.dumps({'inputText': augmented_prompt,'textGenerationConfig':config})"
   ]
  },
  {
   "cell_type": "code",
   "execution_count": 15,
   "id": "34b0f38c-c4f4-4619-a494-239444ba5ee5",
   "metadata": {},
   "outputs": [],
   "source": [
    "response = bedrock.invoke_model( \n",
    " modelId='amazon.titan-tg1-large', \n",
    " body=body\n",
    ")"
   ]
  },
  {
   "cell_type": "code",
   "execution_count": 16,
   "id": "61d10ade-fdca-4152-91f2-d73c0ae2be6c",
   "metadata": {},
   "outputs": [
    {
     "name": "stdout",
     "output_type": "stream",
     "text": [
      "\n",
      "Ke Huy Quan won the Best Actor award in a supporting role.\n"
     ]
    }
   ],
   "source": [
    "response_body = json.loads(response.get('body').read())\n",
    "print(response_body.get('results')[0].get('outputText'))"
   ]
  }
 ],
 "metadata": {
  "kernelspec": {
   "display_name": "Python 3 (ipykernel)",
   "language": "python",
   "name": "python3"
  },
  "language_info": {
   "codemirror_mode": {
    "name": "ipython",
    "version": 3
   },
   "file_extension": ".py",
   "mimetype": "text/x-python",
   "name": "python",
   "nbconvert_exporter": "python",
   "pygments_lexer": "ipython3",
   "version": "3.11.8"
  }
 },
 "nbformat": 4,
 "nbformat_minor": 5
}
