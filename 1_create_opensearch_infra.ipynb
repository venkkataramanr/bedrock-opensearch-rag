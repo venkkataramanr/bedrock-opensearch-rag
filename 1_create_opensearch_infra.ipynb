{
 "cells": [
  {
   "cell_type": "markdown",
   "id": "f2f212fe-4bf9-4c29-8a84-75cb6c402626",
   "metadata": {
    "jp-MarkdownHeadingCollapsed": true
   },
   "source": [
    "### Import modules"
   ]
  },
  {
   "cell_type": "code",
   "execution_count": 12,
   "id": "0a88fee5-3c42-4cac-a09d-b3c17b25d563",
   "metadata": {},
   "outputs": [],
   "source": [
    "import json\n",
    "import os\n",
    "\n",
    "import boto3\n",
    "from botocore.config import Config\n",
    "from opensearchpy import (AWSV4SignerAuth, OpenSearch, RequestsHttpConnection,\n",
    "                          helpers)\n",
    "from opensearchpy.exceptions import RequestError"
   ]
  },
  {
   "cell_type": "markdown",
   "id": "2751565d-7c5c-4c98-a61c-a2f8760e94c3",
   "metadata": {
    "jp-MarkdownHeadingCollapsed": true
   },
   "source": [
    "### Initialize and configure Boto Client for OpenSearch Serverless"
   ]
  },
  {
   "cell_type": "code",
   "execution_count": 13,
   "id": "73184103-9450-4fdc-b103-2b456c117b44",
   "metadata": {},
   "outputs": [],
   "source": [
    "boto_config = Config(\n",
    "    region_name = 'us-east-1',\n",
    "    signature_version = 'v4',\n",
    "    retries = {\n",
    "        'max_attempts': 10,\n",
    "        'mode': 'standard'\n",
    "    }\n",
    ")"
   ]
  },
  {
   "cell_type": "code",
   "execution_count": 14,
   "id": "49fc2982-a603-4eba-bd04-0463ceae5347",
   "metadata": {},
   "outputs": [],
   "source": [
    "session = boto3.Session(profile_name=\"rapid-innovation-dev\")\n",
    "client = session.client(\"opensearchserverless\",config=boto_config)"
   ]
  },
  {
   "cell_type": "markdown",
   "id": "b66640e6-244c-4cc4-aca9-8c16258a74da",
   "metadata": {
    "jp-MarkdownHeadingCollapsed": true
   },
   "source": [
    "### Define encryption policy"
   ]
  },
  {
   "cell_type": "code",
   "execution_count": 15,
   "id": "cd232377-a126-4260-88d9-4087ffaff352",
   "metadata": {},
   "outputs": [
    {
     "name": "stdout",
     "output_type": "stream",
     "text": [
      "oscars-encryption-policy exists\n"
     ]
    }
   ],
   "source": [
    "policy = \"\"\"{\n",
    "                \"Rules\": [\n",
    "                    {\n",
    "                        \"Resource\": [\n",
    "                            \"collection/oscars-collection\"\n",
    "                        ],\n",
    "                        \"ResourceType\": \"collection\"\n",
    "                    }\n",
    "                ],\n",
    "                \"AWSOwnedKey\": true\n",
    "            }\"\"\"\n",
    "\n",
    "try:\n",
    "    response = client.create_security_policy(\n",
    "        description=\"oscars collection encryption security policy\",\n",
    "        name=\"oscars-encryption-policy\",\n",
    "        policy=policy,\n",
    "        type=\"encryption\",\n",
    "    )\n",
    "    print(json.dumps(response, indent=2))\n",
    "except client.exceptions.ConflictException as ex:\n",
    "    print(\"oscars-encryption-policy exists\")"
   ]
  },
  {
   "cell_type": "markdown",
   "id": "3e438891-df7c-400f-87ce-e8579aa1c931",
   "metadata": {
    "jp-MarkdownHeadingCollapsed": true
   },
   "source": [
    "### Define network policy"
   ]
  },
  {
   "cell_type": "code",
   "execution_count": 16,
   "id": "73633a7a-7f0a-4c04-8de0-fc5baf548033",
   "metadata": {},
   "outputs": [
    {
     "name": "stdout",
     "output_type": "stream",
     "text": [
      "oscars-network-policy already exists\n"
     ]
    }
   ],
   "source": [
    "policy = \"\"\"[\n",
    "                {\n",
    "                    \"Rules\": [\n",
    "                        {\n",
    "                            \"Resource\": [\n",
    "                                \"collection/oscars-collection\"\n",
    "                            ],\n",
    "                            \"ResourceType\": \"collection\"\n",
    "                        }\n",
    "                    ],\n",
    "                    \"AllowFromPublic\": true\n",
    "                }\n",
    "            ]\"\"\"\n",
    "\n",
    "try:\n",
    "    response = client.create_security_policy(\n",
    "        description=\"oscars collection network security policy\",\n",
    "        name=\"oscars-network-policy\",\n",
    "        policy=policy,\n",
    "        type=\"network\",\n",
    "    )\n",
    "    print(json.dumps(response, indent=2))\n",
    "except client.exceptions.ConflictException as ex:\n",
    "    print(\"oscars-network-policy already exists\")"
   ]
  },
  {
   "cell_type": "markdown",
   "id": "ade6a6dd-77e6-4d5a-96cb-6b31321276c8",
   "metadata": {},
   "source": [
    "### Define data access policy"
   ]
  },
  {
   "cell_type": "code",
   "execution_count": 19,
   "id": "317ea3fa-2c79-4a62-9905-224ad076182b",
   "metadata": {},
   "outputs": [
    {
     "name": "stdout",
     "output_type": "stream",
     "text": [
      "oscars-data-access-policy already exists\n"
     ]
    }
   ],
   "source": [
    "#replace the IAM principle with your own\n",
    "policy = \"\"\"[\n",
    "                {\n",
    "                    \"Rules\": [\n",
    "                        {\n",
    "                            \"Resource\": [\n",
    "                                \"collection/*\"\n",
    "                            ],\n",
    "                            \"Permission\": [\n",
    "                                \"aoss:*\"\n",
    "                            ],\n",
    "                            \"ResourceType\": \"collection\"\n",
    "                        },\n",
    "                        {\n",
    "                            \"Resource\": [\n",
    "                                \"index/*/*\"\n",
    "                            ],\n",
    "                            \"Permission\": [\n",
    "                                \"aoss:*\"\n",
    "                            ],\n",
    "                            \"ResourceType\": \"index\"\n",
    "                        }\n",
    "                    ],\n",
    "                    \"Principal\": [\n",
    "                        \"arn:aws:sts::683883881884:assumed-role/AWSReservedSSO_rapid-innovation-admin_eeb907705f3c7f8e/vr@presidio.com\"\n",
    "                    ],\n",
    "                    \"Description\": \"Rule 1\"\n",
    "                }\n",
    "            ]\"\"\"\n",
    "\n",
    "try:\n",
    "    response = client.create_access_policy(\n",
    "        description=\"oscars collection data access policy\",\n",
    "        name=\"oscars-data-access-policy\",\n",
    "        policy=policy,\n",
    "        type=\"data\"\n",
    "    )\n",
    "    print(json.dumps(response, indent=2))\n",
    "except client.exceptions.ConflictException as ex:\n",
    "    print(\"oscars-data-access-policy already exists\")"
   ]
  },
  {
   "cell_type": "markdown",
   "id": "f3408294-64bc-419c-b28c-55c44db2e62b",
   "metadata": {},
   "source": [
    "### Create the collection"
   ]
  },
  {
   "cell_type": "code",
   "execution_count": 20,
   "id": "39987da0-87ae-4a92-81ac-104edc674f37",
   "metadata": {},
   "outputs": [
    {
     "name": "stdout",
     "output_type": "stream",
     "text": [
      "oscars-collection already exists\n"
     ]
    }
   ],
   "source": [
    "# create vector search collection\n",
    "try:\n",
    "    response = client.create_collection(\n",
    "        description=\"oscars collection\",\n",
    "        name=\"oscars-collection\",\n",
    "        type=\"VECTORSEARCH\"\n",
    "    )\n",
    "    print(json.dumps(response, indent=2))\n",
    "except client.exceptions.ConflictException as ex:\n",
    "    print(\"oscars-collection already exists\")"
   ]
  },
  {
   "cell_type": "code",
   "execution_count": 21,
   "id": "fb59503e",
   "metadata": {},
   "outputs": [
    {
     "name": "stdout",
     "output_type": "stream",
     "text": [
      "{'collectionDetails': [{'arn': 'arn:aws:aoss:us-east-1:683883881884:collection/w6yidk747fs2m0t09vaj', 'collectionEndpoint': 'https://w6yidk747fs2m0t09vaj.us-east-1.aoss.amazonaws.com', 'createdDate': 1718281481578, 'dashboardEndpoint': 'https://w6yidk747fs2m0t09vaj.us-east-1.aoss.amazonaws.com/_dashboards', 'description': 'oscars collection', 'id': 'w6yidk747fs2m0t09vaj', 'kmsKeyArn': 'auto', 'lastModifiedDate': 1718282074091, 'name': 'oscars-collection', 'standbyReplicas': 'ENABLED', 'status': 'ACTIVE', 'type': 'VECTORSEARCH'}], 'collectionErrorDetails': [], 'ResponseMetadata': {'RequestId': '2fc4c881-bb19-4362-a0a4-e147a9f5abad', 'HTTPStatusCode': 200, 'HTTPHeaders': {'x-amzn-requestid': '2fc4c881-bb19-4362-a0a4-e147a9f5abad', 'date': 'Mon, 17 Jun 2024 09:58:49 GMT', 'content-type': 'application/x-amz-json-1.0', 'content-length': '539', 'connection': 'keep-alive'}, 'RetryAttempts': 0}}\n",
      "w6yidk747fs2m0t09vaj.us-east-1.aoss.amazonaws.com\n"
     ]
    }
   ],
   "source": [
    "while True:\n",
    "    response = client.batch_get_collection(names=['oscars-collection'])\n",
    "    collection_details = response[\"collectionDetails\"][0]\n",
    "    if collection_details.get('collectionEndpoint', None):\n",
    "        end_point = response[\"collectionDetails\"][0]['collectionEndpoint']\n",
    "        host = end_point.split(\"https://\")[-1]\n",
    "        print(response)\n",
    "        print(host)\n",
    "        with open('host.txt', 'w+') as fp:\n",
    "            fp.write(host)\n",
    "        break"
   ]
  },
  {
   "cell_type": "markdown",
   "id": "21f14370-327e-4293-a2a6-5287cbffc8b1",
   "metadata": {},
   "source": [
    "### Initialize and configure OpenSearch client"
   ]
  },
  {
   "cell_type": "code",
   "execution_count": 22,
   "id": "84a14aa3-8958-4be8-89d6-332c56ebb8c5",
   "metadata": {},
   "outputs": [],
   "source": [
    "host = host #replace this with the value from the AWS Management Console\n",
    "region = \"us-east-1\"\n",
    "service = \"aoss\"\n",
    "credentials = session.get_credentials()\n",
    "auth = AWSV4SignerAuth(credentials, region, service)"
   ]
  },
  {
   "cell_type": "code",
   "execution_count": 23,
   "id": "6aeffc00-85ea-40dc-be93-0120632c42c4",
   "metadata": {},
   "outputs": [],
   "source": [
    "client = OpenSearch(\n",
    "    hosts = [{\"host\": host, \"port\": 443}],\n",
    "    http_auth = auth,\n",
    "    use_ssl = True,\n",
    "    verify_certs = True,\n",
    "    connection_class = RequestsHttpConnection,\n",
    "    pool_maxsize = 20\n",
    ")"
   ]
  },
  {
   "cell_type": "markdown",
   "id": "e9b2e5cb-faac-4d04-bb90-4bc718ce2083",
   "metadata": {
    "jp-MarkdownHeadingCollapsed": true
   },
   "source": [
    "### Create an index"
   ]
  },
  {
   "cell_type": "code",
   "execution_count": 24,
   "id": "96d94671-d770-4faa-a393-4b0e8ffb4185",
   "metadata": {},
   "outputs": [
    {
     "name": "stdout",
     "output_type": "stream",
     "text": [
      "oscars-index already exists\n"
     ]
    }
   ],
   "source": [
    "index_name = \"oscars-index\"\n",
    "index_body = {\n",
    "    \"mappings\": {\n",
    "        \"properties\": {\n",
    "            \"nominee_text\": {\"type\": \"text\"},\n",
    "            \"nominee_metadata\": {\"type\": \"text\"},\n",
    "            \"nominee_vector\": {\n",
    "                \"type\": \"knn_vector\",\n",
    "                \"dimension\": 1536,\n",
    "                \"method\": {\n",
    "                    \"engine\": \"nmslib\",\n",
    "                    \"space_type\": \"cosinesimil\",\n",
    "                    \"name\": \"hnsw\",\n",
    "                    \"parameters\": {\"ef_construction\": 512, \"m\": 16},\n",
    "                },\n",
    "            },\n",
    "        }\n",
    "    },\n",
    "    \"settings\": {\n",
    "        \"index\": {\n",
    "            \"number_of_shards\": 2,\n",
    "            \"knn.algo_param\": {\"ef_search\": 512},\n",
    "            \"knn\": True,\n",
    "        }\n",
    "    },\n",
    "}\n",
    "\n",
    "try:\n",
    "    response = client.indices.create(index_name, body=index_body)\n",
    "    print(json.dumps(response, indent=2))\n",
    "except RequestError as ex:\n",
    "    print(\"oscars-index already exists\")"
   ]
  },
  {
   "cell_type": "markdown",
   "id": "b5b32da7-12f4-4923-9796-deab250dc7ae",
   "metadata": {
    "jp-MarkdownHeadingCollapsed": true
   },
   "source": [
    "### Verify the index"
   ]
  },
  {
   "cell_type": "code",
   "execution_count": 25,
   "id": "06e76824-4aa1-47a3-996a-c12d9bba2c5f",
   "metadata": {},
   "outputs": [
    {
     "name": "stdout",
     "output_type": "stream",
     "text": [
      "{\n",
      "  \"oscars-index\": {\n",
      "    \"aliases\": {},\n",
      "    \"mappings\": {\n",
      "      \"properties\": {\n",
      "        \"nominee_metadata\": {\n",
      "          \"type\": \"text\"\n",
      "        },\n",
      "        \"nominee_text\": {\n",
      "          \"type\": \"text\"\n",
      "        },\n",
      "        \"nominee_vector\": {\n",
      "          \"type\": \"knn_vector\",\n",
      "          \"dimension\": 1536,\n",
      "          \"method\": {\n",
      "            \"engine\": \"nmslib\",\n",
      "            \"space_type\": \"cosinesimil\",\n",
      "            \"name\": \"hnsw\",\n",
      "            \"parameters\": {\n",
      "              \"ef_construction\": 512,\n",
      "              \"m\": 16\n",
      "            }\n",
      "          }\n",
      "        }\n",
      "      }\n",
      "    },\n",
      "    \"settings\": {\n",
      "      \"index\": {\n",
      "        \"number_of_shards\": \"2\",\n",
      "        \"knn.algo_param\": {\n",
      "          \"ef_search\": \"512\"\n",
      "        },\n",
      "        \"provided_name\": \"oscars-index\",\n",
      "        \"knn\": \"true\",\n",
      "        \"creation_date\": \"1718614042160\",\n",
      "        \"number_of_replicas\": \"0\",\n",
      "        \"uuid\": \"PzphJZAB-3YzZxf4JXq4\",\n",
      "        \"version\": {\n",
      "          \"created\": \"135217827\"\n",
      "        }\n",
      "      }\n",
      "    }\n",
      "  }\n",
      "}\n"
     ]
    }
   ],
   "source": [
    "try:\n",
    "    response = client.indices.get(\"oscars-index\")\n",
    "    print(json.dumps(response, indent=2))\n",
    "except Exception as ex:\n",
    "    print(ex)"
   ]
  }
 ],
 "metadata": {
  "kernelspec": {
   "display_name": "Python 3 (ipykernel)",
   "language": "python",
   "name": "python3"
  },
  "language_info": {
   "codemirror_mode": {
    "name": "ipython",
    "version": 3
   },
   "file_extension": ".py",
   "mimetype": "text/x-python",
   "name": "python",
   "nbconvert_exporter": "python",
   "pygments_lexer": "ipython3",
   "version": "3.11.8"
  }
 },
 "nbformat": 4,
 "nbformat_minor": 5
}
